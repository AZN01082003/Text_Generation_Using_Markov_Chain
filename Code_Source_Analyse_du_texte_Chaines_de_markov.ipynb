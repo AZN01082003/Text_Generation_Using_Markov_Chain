{
  "nbformat": 4,
  "nbformat_minor": 0,
  "metadata": {
    "colab": {
      "provenance": []
    },
    "kernelspec": {
      "name": "python3",
      "display_name": "Python 3"
    },
    "language_info": {
      "name": "python"
    }
  },
  "cells": [
    {
      "cell_type": "markdown",
      "source": [
        "# Partie une"
      ],
      "metadata": {
        "id": "a0afE7GGh7mH"
      }
    },
    {
      "cell_type": "markdown",
      "source": [
        "## Praitraitement du texte"
      ],
      "metadata": {
        "id": "kxy_nOBDh__7"
      }
    },
    {
      "cell_type": "code",
      "source": [
        "import re\n",
        "from bs4 import BeautifulSoup\n",
        "from urllib.request import urlopen\n",
        "\n",
        "# Charger la page Wikipédia\n",
        "url = \"https://en.wikipedia.org/wiki/Rabat\"\n",
        "html = urlopen(url).read()\n",
        "\n",
        "# Parser le HTML avec BeautifulSoup\n",
        "soup = BeautifulSoup(html, \"html.parser\")\n",
        "\n",
        "# Récupérer le contenu principal\n",
        "content_div = soup.find(\"div\", {\"id\": \"bodyContent\"})\n",
        "\n",
        "# Extraire uniquement les paragraphes de texte\n",
        "raw_text = \" \".join(p.get_text() for p in content_div.find_all(\"p\"))\n",
        "\n",
        "# Nettoyage du texte :\n",
        "# 1. Mettre en minuscules\n",
        "# 2. Supprimer tout sauf les lettres latines et les espaces\n",
        "clean_text = re.sub(r\"[^a-z\\s]\", \"\", raw_text.lower())\n",
        "\n",
        "\n",
        "\n",
        "# Afficher le texte nettoyé\n",
        "print(clean_text)\n"
      ],
      "metadata": {
        "colab": {
          "base_uri": "https://localhost:8080/"
        },
        "id": "7cUusBWZ-kVE",
        "outputId": "acec0346-135d-4836-9231-5e5d68a8cadb"
      },
      "execution_count": 6,
      "outputs": [
        {
          "output_type": "stream",
          "name": "stdout",
          "text": [
            "rabat rbt also uk rbt us rbt arabic  romanized arrib is the capital city of morocco and the countrys seventhlargest city with an urban population of approximately   and a metropolitan population of over  million it is also the capital city of the rabatsalknitra administrative region rabat is located on the atlantic ocean at the mouth of the river bou regreg opposite sal the citys main commuter town\n",
            " rabat was founded in the th century by the almohads after a period of growth the city fell  into a long period of decline in the th century rabat became a haven for barbary pirates when the french established a protectorate over morocco in   rabat became its administrative center when morocco achieved independence in  rabat became its capital\n",
            " rabat temara and sal form a conurbation of over  million people rabat is one of four imperial cities of morocco and its medina is listed as a world heritage site it is accessible by train through the oncf system and by plane through the nearby rabatsal airport\n",
            " the name rabat comes from the arabic word  arib meaning the ribat an islamic base or fortification this name is short for   ribu alfat meaning the ribat of conquest or stronghold of victorya title given by the almohads when they established the city as a naval base in \n",
            " in the first millennium bc the phoenicians founded several trading colonies along the atlantic coast of what is now morocco but the existence of a phoenician settlement in the area called sala or shallat has been debated by archeologists by the first century bc the local inhabitants were still writing in the neopunic language but the region came under the influence of rome it was controlled by the ancient berber mauretanian kingdom until it was formally annexed by rome in the first century bc on the site now known as chellah just south of the walled city today the romans built a city named sala colonia excavations have revealed that older mauretanian structures existed on the site before roman structures were built over them along with lixus sala colonia was one of the two main naval outposts held by the romans on the atlantic coast of the mauretania tingitana province the port of sala now disappeared was used by commercial roman ships as a way station on their southwestward passages to anfa and the insula purpuraria mogador island\n",
            " archaeological objects of visigothic and byzantine origin found in the area attest to the persistence of commercial or political contacts between sala and roman europe up to the establishment of a byzantine presence in north africa during the th century however sala began to be abandoned in the th century and was mostly in ruins when the muslim arabs arrived in the th century and established islamic influence in the region\n",
            " in the th century the umayyads of cordoba or their zenata berber allies in the region founded a ribat or fortified monasteryoutpost in this area to defend against the barghawata berbers who had established a kharijite state to the south this ribat was most likely on the same site as the current kasbah of the udayas but its location has not been confirmed by historians around  a new town called sal the present sal was founded on the opposite side of the river the north side by the banu ashara family\n",
            " one of the last almoravid emirs tashfin ibn ali r  built a new ribat on the site of the current kasbah as part of his efforts to hold back the almohads almohads nonetheless defeated the almoravids and destroyed the ribat shortly after in  or  the almohad caliph abd almumin built a new kasbah citadel to replace the former ribat within which he included a palace and a mosque this almohad kasbah corresponds to the current kasbah of the udayas which was expanded in later periods abd almumin also had an underground canal dug to divert a water source to this location allowing for future settlement and urbanization in the area the site became a military staging ground for almohad armies setting out on campaigns to alandalus\n",
            " the almohad caliph abu yusuf yaqub almansur r  embarked on an ambitious project to construct a new fortified imperial capital called almahdiyya or ribat alfath on the site of what is now the medina old city of rabat with new walls extending over a vast area beyond the kasbah this project also included the construction of an enormous mosque the remains of which include the hassan tower and of new grand gateways such as bab errouah and the main gate of the kasbah now known as bab udaya or bab alkbir after almansurs death in  the mosque and the capital remained unfinished and his successors lacked the resources or the will to finish it the new city was never fully inhabited and the site was practically abandoned\n",
            " during the marinid dynasty period th to th centuries the town of sal across the river grew more important than the settlements of the south bank in  leo africanus reported that rabat had declined so much that only  inhabited houses remainedcitation needed the marinids did build a great mosque in what is now the medina of rabat and on the nearby site of chellah ancient sala they built a royal necropolis for their dynasty\n",
            " \n",
            "in  philip iii decreed the expulsion of all moriscos people of muslim or moorish descent from spain about  of these refugees originally from the town of hornachos near badajoz spain settled around sal and occupied the kasbah attracting between  and  other moriscos to join them rabat and neighboring sal united to form the republic of bou regreg in  this autonomous republic became a base for corsairs pirates also known as the sal rovers who preyed on merchant ships around the shores of western europe  during this time the area below the kasbah on the south bank became more heavily populated thanks to the morisco and andalusi refugees a new andalusian wall was built to delimit this area in the northern part of the former almohad walled city what is now known as the street of the consuls became an important road artery even at this time the name rabat was not yet in use the city of the south bank was known as new sal while the city of the north bank was known as old sal corsair activities were based in new sal whereas the inhabitants of old sal generally did not participate in piracy\n",
            " the pirates did not have to contend with any central authority until alrashid the founder of the alawi dynasty conquered the area in  and united most of morocco under his rule nonetheless the alawi sultans allowed the piracy to continue up until the reign of moulay slimane in the early th century this led to the shelling of the city by austria in  after an austrian ship had been lost to a pirate attackcitation needed\n",
            " during the early part of the alawi period thth centuries the sultans took some interest in the city of the south bank and carried out constructions and repairs to the kasbah moulay ismail r  expanded the kasbah southward and built a royal residence within it towards the end of the th century it serves as a museum today moulay ismail was also responsible for settling a part of the udayas or oudayas a guich tribe military tribe serving the sultans army in the kasbah to serve as a counterbalancing force against other unruly tribes in the region   under sidi muhammad ibn abdallah r  a new royal palace the dar almakhzen was established in the southwest part of the almohad walled area towards the end of the th century these additions began to give the city the character and function of a royal residence used by the ruling dynasty outside their main capitals\n",
            " moulay slimane r  built another palace along the seaside called dar albahr and built new mosques such as the moulay slimane mosque he also ordered the creation of a jewish quarter the mellah in the eastern part of the andalusian medina in a formerly occupied by orchards it was also towards the beginning of the th century that the city walls formerly limited to the almohadera perimeter were extended significantly to the southwest thus expanding the city to cover around  hectares the old almohad walls and gates were still retained and the almohadera enclosure remained a more privileged district containing the citys major monuments and its imperial residence most of the population remained concentrated in the medina behind the andalusian wall in the northern section in the s moulay abd arrahman r  further developed and completed the dar almakhzen palace in the southwest corner of this enclosure at the end of the th century or beginning of the th century the city had some  to  inhabitants  \n",
            " the french invasion of morocco began in the east with general hubert lyauteys occupation of oujda in march  and in the west with the bombardment of casablanca in august  the treaty of fes established the protectorate in march  acting as french administrator of morocco lyautey decided to relocate the countrys capital from fes to rabat after the riots of  following the treaty of fes lyautey appears to have had a personal affinity for rabat he argued that its coastal location was more pleasant and more accessible and that its proximity to casablanca which he estimated would become the major economic center would be advantageous   in  lyautey hired henri prost to design the ville nouvelle rabats modern quarter as an administrative sector as he did in other major moroccan cities  \n",
            " the colonial period resulted in major economic changes as well as accelerated urbanization prior to this period the major cities of morocco had always been fez and marrakesh while the coastal cities were relatively small census figures are not available for the early years of the protectorate but in  rabat and nearby sal can be estimated to have had about  to  inhabitants at most according to janet abulughod   one early french survey based on the number of houses rather than a formal census estimated the population of rabat to be  a formal census in  counted the population as    some of this growth was due to the immigration of foreigners in   of the population were moroccan muslims and  were moroccan jews while  were french nationals and another  were foreigners of other origin nearby sal however remained more homogenously moroccan   rabats population grew to approximately  in  and to approximately  in   \n",
            " when morocco achieved independence in  mohammed v the then king of morocco chose to have the capital remain at rabat rabats growth continued unabated the most important demographic shift after independence was the exodus of foreign nationals and their replacement by moroccans who gradually took over the jobs and functions that the foreigners had occupied in the census of  the population of rabat had grown to around  of which only  were foreigners  \n",
            " following world war ii the united states had established a military presence in rabat at the former french air base by the early s rabat sal air base was a us air force installation hosting the th air force and the th air division which oversaw forward basing for strategic air command sac b stratojet aircraft in the country with the destabilization of french government in morocco and moroccan independence in  the government of mohammed v wanted the us air force to pull out of the sac bases in morocco insisting on such action after american intervention in lebanon in verification needed the united states agreed to leave as of december  and was fully out of morocco by  sac felt the moroccan bases were much less critical with the long range capability of the b stratofortresses that were replacing the bs and with the completion of the usaf installations in spain in citation needed with the usaf withdrawal from rabatsal in the s the facility became a primary facility for the royal moroccan air force known as air base n  a status it continues to hold\n",
            " the fifth arab league summit took place in rabat in  to discuss the arson of alaqsa mosque by australian citizen denis michael rohan in the same year the organisation of islamic cooperation an organization that aims to protect the interests of the muslim world was founded at a summit in rabat the  arab league summit was also held in rabat the summit recognized the palestine liberation organization as the sole legitimate representative of the palestinian people in  the sixth edition of the pan arab games was held in rabat\n",
            " in  the city became part of the rabatsalknitra administrative region on  february  asmaa rhlalou declared her resignation months after she sparked a controversy that called into doubt her authority and validity within the city council\n",
            " rabat is an administrative city it has many shopping districts and residential neighbourhoods the geographically spread out neighbourhoods are as follows\n",
            " the heart of the city consists of three parts the medina old town the oudayas and hassan both located to meet the bou regreg and the atlantic ocean\n",
            " to the west and along the waterfront there is a succession of neighbourhoods\n",
            " first around the ramparts there is the old neighbourhoods quartier locan and quartier les orangers beyond that a succession of mostly workingclass districts diour jamaa akkari yacoub el mansour massira and hay el fath are the main parts of this axis hay el fath which ends this sequence evolves into a middleclass neighbourhood\n",
            " to the east along the bouregreg the youssoufia region working and middle class  mabella taqaddoum hay nahda mostly middle class aviation middle and upper middle class and rommani\n",
            " between the two axes from north to south there are three main neighbourhoods middle class to affluent agdal ward building a lively mix of residential and commercial buildings the residents are predominantly upper middle class hay riad affluent villas this neighbourhood has experienced a surge of momentum since the s and souissi lavish villas embassies welloff residential neighborhood\n",
            " on the outskirts of souissi are a number of lessdense regions mainly comprising large private houses to areas that seem out of the city\n",
            " the prefecture is divided administratively into the following\n",
            " rabat features a mediterranean climate csa with warm to hot dry summers and mild damp winters located along the atlantic ocean rabat has a mild temperate climate shifting from cool in winter to warm days in the summer months the nights are always cool or cold in winter it can reach sub  c  f sometimes with daytime temperatures generally rising about  c  f the winter highs typically reach only  c  f in decemberfebruary summer daytime highs usually hover around  c  f but may occasionally exceed  c  f during heat waves summer nights are usually pleasant and cool ranging between  and  c  and  f and rarely exceeding  c  f rabat belongs to the subhumid bioclimatic zone with an average annual precipitation of  mm  in the airport station is located about  kilometres  mi from the coastline which will somewhat warm afternoons and cool nights down compared to a seaside location\n",
            " the biggest place for theatre is the mohammed v theatre in the centre of the town which was opened in  construction on a new performing arts center the grand theatre of rabat began in  designed by zaha hadid it will reportedly be the largest theater in the arab world and in africa it was scheduled to open in \n",
            " many organizations are active in cultural and social issues orientoccident foundation and ona foundation are the biggest of these an independent art scene is active in the city lappartement  which is the first independent space for visual arts created by abdellah karroum opened in  and introduced international and local artists other independent spaces opened few years after such as le cube also set up in a private space\n",
            " mawazine is a music festival in rabat organized under the auspices of king mohammed vi of morocco that started in  where music groups fans and spectators come together in a weeklong celebration of culture and music both locally and internationally musicians such as scorpions the weeknd jennifer lopez kanye west pitbull rihanna elton john stromae and many others have performed at the festival\n",
            " mawazine was host to more than  in  workshops are available for teaching dances and other arts the festival is free however while most areas are free there are those that require payment specifically the smaller stages being the historical site of chellah the mohammed v national theater and the renaissance cultural center\n",
            " the places of worship are predominantly muslim mosques the oldest mosque in the city is the old mosque jama alatiqa in the kasbah of the udayas it was originally founded during abd almumins construction of the kasbah in  though its current form mostly dates from an thcentury restoration other important mosques include the great mosque in the old medina also known as the elkharrazin mosque and the assunna mosque in central rabat originally completed in  by sultan muhammad ibn abdallah\n",
            " \n",
            "the last remaining synagogues in rabat are the rabbi shalom zaoui synagogue and the talmud torah synagogue there are also christian churches and temples including an evangelical church and st peters cathedral cathdrale de saintpierre which hosts the roman catholic archdiocese of rabat the oudayas museum also formerly known as the national museum of jewellery is housed in a pavilion residence built by sultan moulay ismail r  inside the kasbah of the udayas it was first opened in  making it one of the oldest public museums in morocco its collections augmented by private donations feature diverse objects from throughout morocco mostly from the th to th centuries in  it became the national museum of jewellery with exhibits focusing on the history of moroccan jewellery as of  it was under renovations to be transformed into a new museum to be called muse du caftan et de la parure museum of the caftan and adornment\n",
            " the museum of history and civilizations formerly the national archeological museum showcases the history of morocco through a collection of archeological artifacts from the punic mauretanian roman and islamic periods this includes a collection of ancient roman bronze and marble statuary from sites such as lixus volubilis and chellah as well as coins ceramics and architectural fragments from the islamic period\n",
            " the rabat zoo officially called the zoological garden of rabat was opened in  in part to house the lions that were previously kept at the royal palace the lions are descended from the nowextinct barbary lions since then the zoo has expanded to house some  animals and has engaged in conservation efforts\n",
            " the bank almaghrib museum was inaugurated in  and is housed at the bank almaghrib building downtown its main exhibits include a collection of coins and currency from ancient times to the modern era as well as a gallery of orientialist art the mohammed vi museum of modern and contemporary art was inaugurated in \n",
            " the kasbah of the udayas also spelled kasbah of the oudaias is the oldest part of the presentday city built by the almohads in the th century it was later refortified and expanded by the corsairs and the alawi dynasty in the th and th centuries   the kasbah is now a residential district with traditional houses painted white and blue on the outside its southern section includes the andalusian garden landscaped in the th century\n",
            " the citys historic walls were first built by the almohad caliph yaqub almansur and completed in  with later additions in the th and th centuries a number of monumental gates are found along the walls the most notable being bab errouah the other almohadera gates are bab elhad bab alalou bab zaers and bab alhadid though many of them were modified in more recent periods the thcentury andalusian wall which divides the zone inside the almohad walls has five more gates bab jdid formerly bab teben mostly demolished bab albouiba bab chellah bab mellah and bab diouana\n",
            " the old medina located below the kasbah and above the line of the andalusian wall contains many historic mosques and traditional houses the rest of the area within the almohad walls but south of the andalusian wall was largely built up in the th century when rabat became the capital during the french protectorate these districts contain numerous public buildings and apartment blocs built in contemporary styles of that period such as neomoorish known as nomauresque or arabisant in french art nouveau art deco and modern architecture   examples of these include the bank almaghrib building built in the s the central post office building circa  expanded in s the parliament building built in the s stpeters cathedral inaugurated in  with later additions the rabatville train station early s and some of the apartment blocs on rue gaza built or begun in the s among others    \n",
            " overlooking the shores of the river is the hassan tower a monumental unfinished minaret constructed by yaqub almansur in the late th century it was built for an enormous mosque planned as part of the larger city almansur was constructing across from the tower today at the southern end of the mosques remains is the mausoleum of mohammed v d  which houses the remains of king mohammed v and king hassan ii the mausoleum completed in  was designed in a neomoorish or moroccan revivalist style by vietnamese architect cong vo toan\n",
            " \n",
            "a short distance south of the historic city walls is the archeological site of chellah a walled enclosure containing a th to thcentury marinid funerary and religious complex as well as the ruins of the roman city of sala colonia across the river is the city of sal which also preserves a historic medina the medina of sal includes monuments from the marinid period such as bab mrissa and the madrasa of abu alhasan as well as landmarks from later periods public\n",
            " private \n",
            " rabats main airport is rabatsal airport\n",
            " rabat is served by two principal railway stations run by the national rail service oncf\n",
            " rabatville and rabat agdal are the two main intercity stations from which trains run south to casablanca marrakech and el jadida north to tangier or east to meknes fez taza and oujda\n",
            " oncf operates the le bouregreg urban rail for rabatsal agglomeration marrakesh is a  hr journey fez  hr on an express train and  hr on other trains and casablanca  hr\n",
            " the rabatsal tramway was the first tramway network in morocco and connects rabat with sal across the river it was opened on  may  after a construction cost of  billion mad the network was constructed by alstom citadis and is operated by transdev as of february  the network had two lines with a total length of  km  miles and  stations  in  an extension of the network was being planned and is due to be completed by \n",
            " after some years of neglect as investment was directed at the tramway the existing operator stareo was displaced in  a contract was awarded to alsacity bus a joint venture between moroccan company city bus and spanish company alsa a subsidiary of the mobico group the new operator took over in july  with a commitment to three hundred and fifty new buses these will comprise  mercedesbenz and  scania vehicles the contract covers a year period renewable for seven years and promises approximately  billion mad investment into the bus transport system in the region\n",
            " prince moulay abdellah stadium arabic      is a multipurpose stadium in rabat morocco it is named after prince moulay abdellah it was built in  and is the home ground of asfar football club it is used mostly for football matches and it can also stage athletics the stadium holds  since  it is host of the meeting international mohammed vi dathltisme de rabat\n",
            " rabat hosted the  african games after malabo equatorial guinea was stripped of hosting due to economic matters it was the first time the african games were hosted by morocco it is one of the potential host cities for the  fifa world cup\n",
            " rabats most popular sport club is the association football clubs asfar and fus de rabat well known in the continental competitions as far have won  major african titles including  caf champions league and  caf confederation cup while fus de rabat has only managed to win one major african title  caf confederation cup\n",
            " the local football teams are\n",
            " the local basketball teams are\n",
            " politicians\n",
            " scientists writers and philosophers\n",
            " artists\n",
            " sports\n",
            " royal descendants\n",
            " rabat is twinned with\n",
            " n w  n w   \n",
            "\n"
          ]
        }
      ]
    },
    {
      "cell_type": "markdown",
      "source": [
        "## Construction de la matrice Stochastique"
      ],
      "metadata": {
        "id": "A9yUeK0liKFX"
      }
    },
    {
      "cell_type": "code",
      "source": [
        "import numpy as np\n",
        "import re\n",
        "from collections import defaultdict\n",
        "\n",
        "texte=clean_text\n",
        "\n",
        "# Définir l'alphabet + espace (27 caractères)\n",
        "alphabet = \"abcdefghijklmnopqrstuvwxyz \"\n",
        "char_to_idx = {char: i for i, char in enumerate(alphabet)}\n",
        "\n",
        "# Initialiser la matrice de transition (27x27)\n",
        "M = np.zeros((27, 27))\n",
        "\n",
        "# Construire la matrice des fréquences de transition\n",
        "for i in range(len(texte) - 1):\n",
        "    char1, char2 = texte[i], texte[i + 1]\n",
        "    if char1 in char_to_idx and char2 in char_to_idx:\n",
        "        M[char_to_idx[char1], char_to_idx[char2]] += 1\n",
        "\n",
        "# Normalisation : Transformer en matrice stochastique\n",
        "row_sums = M.sum(axis=1, keepdims=True)\n",
        "P = np.divide(M, row_sums, where=row_sums != 0)  # Éviter la division par zéro\n",
        "\n",
        "# Afficher la matrice de transition\n",
        "print(\"Matrice de transition stochastique :\\n\", P)\n"
      ],
      "metadata": {
        "colab": {
          "base_uri": "https://localhost:8080/"
        },
        "collapsed": true,
        "id": "eiH_0IIeAP-V",
        "outputId": "dc99e0c2-f845-4001-aaed-3353fec8d584"
      },
      "execution_count": 7,
      "outputs": [
        {
          "output_type": "stream",
          "name": "stdout",
          "text": [
            "Matrice de transition stochastique :\n",
            " [[9.43841435e-04 6.22935347e-02 2.50117980e-02 3.16186881e-02\n",
            "  1.88768287e-03 1.51014630e-02 1.22699387e-02 1.88768287e-02\n",
            "  3.16186881e-02 3.77536574e-03 3.30344502e-03 1.35441246e-01\n",
            "  2.68994809e-02 1.66588013e-01 4.71920717e-04 1.03822558e-02\n",
            "  2.35960359e-03 9.24964606e-02 9.62718263e-02 1.34025484e-01\n",
            "  1.13260972e-02 1.03822558e-02 4.71920717e-03 9.43841435e-04\n",
            "  1.98206701e-02 2.35960359e-03 7.88107598e-02]\n",
            " [3.44594595e-01 2.25225225e-03 6.75675676e-03 2.02702703e-02\n",
            "  1.48648649e-01 0.00000000e+00 0.00000000e+00 2.25225225e-03\n",
            "  5.40540541e-02 4.50450450e-03 0.00000000e+00 6.30630631e-02\n",
            "  0.00000000e+00 6.75675676e-03 5.40540541e-02 0.00000000e+00\n",
            "  0.00000000e+00 1.12612613e-02 1.12612613e-02 9.00900901e-03\n",
            "  9.45945946e-02 0.00000000e+00 0.00000000e+00 0.00000000e+00\n",
            "  9.23423423e-02 0.00000000e+00 7.43243243e-02]\n",
            " [1.55124654e-01 0.00000000e+00 6.23268698e-02 0.00000000e+00\n",
            "  1.53739612e-01 4.15512465e-03 0.00000000e+00 1.01108033e-01\n",
            "  1.03878116e-01 0.00000000e+00 4.15512465e-03 4.29362881e-02\n",
            "  0.00000000e+00 0.00000000e+00 1.78670360e-01 0.00000000e+00\n",
            "  0.00000000e+00 1.38504155e-02 6.92520776e-03 7.89473684e-02\n",
            "  2.49307479e-02 0.00000000e+00 0.00000000e+00 0.00000000e+00\n",
            "  4.15512465e-03 0.00000000e+00 6.50969529e-02]\n",
            " [6.19946092e-02 0.00000000e+00 1.34770889e-03 1.48247978e-02\n",
            "  1.64420485e-01 0.00000000e+00 0.00000000e+00 0.00000000e+00\n",
            "  8.89487871e-02 0.00000000e+00 0.00000000e+00 1.07816712e-02\n",
            "  1.21293801e-02 0.00000000e+00 1.75202156e-02 0.00000000e+00\n",
            "  0.00000000e+00 9.43396226e-03 3.36927224e-02 0.00000000e+00\n",
            "  2.15633423e-02 1.34770889e-03 0.00000000e+00 0.00000000e+00\n",
            "  6.73854447e-03 0.00000000e+00 5.55256065e-01]\n",
            " [3.62523540e-02 3.29566855e-03 2.58945386e-02 9.60451977e-02\n",
            "  1.41242938e-02 4.23728814e-03 1.41242938e-02 9.41619586e-04\n",
            "  1.08286252e-02 0.00000000e+00 1.41242938e-03 2.91902072e-02\n",
            "  1.60075330e-02 9.32203390e-02 7.06214689e-03 8.00376648e-03\n",
            "  1.41242938e-03 1.19114878e-01 8.75706215e-02 2.25988701e-02\n",
            "  7.06214689e-03 8.00376648e-03 1.27118644e-02 1.17702448e-02\n",
            "  5.17890772e-03 1.88323917e-03 3.62052731e-01]\n",
            " [3.37349398e-02 0.00000000e+00 0.00000000e+00 0.00000000e+00\n",
            "  5.54216867e-02 1.92771084e-02 0.00000000e+00 0.00000000e+00\n",
            "  7.46987952e-02 0.00000000e+00 0.00000000e+00 9.63855422e-03\n",
            "  0.00000000e+00 0.00000000e+00 1.83132530e-01 0.00000000e+00\n",
            "  0.00000000e+00 9.63855422e-02 0.00000000e+00 5.06024096e-02\n",
            "  2.65060241e-02 0.00000000e+00 0.00000000e+00 0.00000000e+00\n",
            "  0.00000000e+00 0.00000000e+00 4.50602410e-01]\n",
            " [9.55882353e-02 0.00000000e+00 3.67647059e-03 1.10294118e-02\n",
            "  1.10294118e-01 0.00000000e+00 1.10294118e-02 9.55882353e-02\n",
            "  1.13970588e-01 0.00000000e+00 0.00000000e+00 7.35294118e-03\n",
            "  7.35294118e-03 4.77941176e-02 2.20588235e-02 0.00000000e+00\n",
            "  0.00000000e+00 9.19117647e-02 1.10294118e-02 3.67647059e-03\n",
            "  5.88235294e-02 0.00000000e+00 0.00000000e+00 0.00000000e+00\n",
            "  0.00000000e+00 0.00000000e+00 3.08823529e-01]\n",
            " [1.15956392e-01 8.91972250e-03 2.97324083e-03 4.95540139e-03\n",
            "  5.16352825e-01 9.91080278e-04 0.00000000e+00 0.00000000e+00\n",
            "  7.92864222e-02 0.00000000e+00 0.00000000e+00 3.96432111e-03\n",
            "  1.98216056e-03 9.91080278e-04 6.04558969e-02 0.00000000e+00\n",
            "  0.00000000e+00 1.58572844e-02 3.96432111e-03 3.96432111e-03\n",
            "  5.94648167e-03 0.00000000e+00 4.95540139e-03 0.00000000e+00\n",
            "  0.00000000e+00 1.98216056e-03 1.66501487e-01]\n",
            " [3.41225627e-02 1.88022284e-02 6.61559889e-02 3.27298050e-02\n",
            "  2.64623955e-02 1.04456825e-02 2.57660167e-02 6.96378830e-04\n",
            "  2.78551532e-03 6.96378830e-04 6.96378830e-04 5.50139276e-02\n",
            "  2.85515320e-02 2.63231198e-01 9.47075209e-02 9.05292479e-03\n",
            "  6.96378830e-04 3.27298050e-02 1.06545961e-01 1.36490251e-01\n",
            "  2.78551532e-03 2.57660167e-02 0.00000000e+00 2.78551532e-03\n",
            "  6.96378830e-04 7.66016713e-03 1.39275766e-02]\n",
            " [1.17647059e-01 0.00000000e+00 0.00000000e+00 8.82352941e-02\n",
            "  3.23529412e-01 0.00000000e+00 0.00000000e+00 0.00000000e+00\n",
            "  2.94117647e-02 0.00000000e+00 0.00000000e+00 0.00000000e+00\n",
            "  0.00000000e+00 0.00000000e+00 3.82352941e-01 0.00000000e+00\n",
            "  0.00000000e+00 0.00000000e+00 0.00000000e+00 0.00000000e+00\n",
            "  5.88235294e-02 0.00000000e+00 0.00000000e+00 0.00000000e+00\n",
            "  0.00000000e+00 0.00000000e+00 0.00000000e+00]\n",
            " [2.52873563e-01 1.14942529e-02 1.14942529e-02 0.00000000e+00\n",
            "  1.03448276e-01 0.00000000e+00 0.00000000e+00 4.59770115e-02\n",
            "  1.26436782e-01 0.00000000e+00 1.14942529e-02 1.14942529e-02\n",
            "  1.14942529e-02 1.72413793e-01 0.00000000e+00 0.00000000e+00\n",
            "  0.00000000e+00 0.00000000e+00 3.44827586e-02 0.00000000e+00\n",
            "  0.00000000e+00 0.00000000e+00 0.00000000e+00 0.00000000e+00\n",
            "  0.00000000e+00 0.00000000e+00 2.06896552e-01]\n",
            " [1.36624569e-01 2.29621125e-03 0.00000000e+00 4.36280138e-02\n",
            "  1.17106774e-01 2.29621125e-03 0.00000000e+00 3.44431688e-03\n",
            "  8.72560276e-02 0.00000000e+00 4.59242250e-03 1.29735936e-01\n",
            "  4.01836969e-02 0.00000000e+00 7.11825488e-02 0.00000000e+00\n",
            "  0.00000000e+00 1.14810563e-03 3.78874856e-02 3.67393800e-02\n",
            "  3.44431688e-02 1.14810563e-03 3.44431688e-03 0.00000000e+00\n",
            "  7.69230769e-02 0.00000000e+00 1.69919633e-01]\n",
            " [1.99341021e-01 1.48270181e-02 0.00000000e+00 0.00000000e+00\n",
            "  2.00988468e-01 0.00000000e+00 0.00000000e+00 0.00000000e+00\n",
            "  9.22570016e-02 0.00000000e+00 0.00000000e+00 0.00000000e+00\n",
            "  4.61285008e-02 0.00000000e+00 2.30642504e-01 4.94233937e-02\n",
            "  0.00000000e+00 1.64744646e-03 8.23723229e-03 0.00000000e+00\n",
            "  5.10708402e-02 0.00000000e+00 4.94233937e-03 0.00000000e+00\n",
            "  1.64744646e-03 0.00000000e+00 9.88467875e-02]\n",
            " [5.27441197e-02 0.00000000e+00 4.77548111e-02 1.46115467e-01\n",
            "  7.62651461e-02 5.70206700e-03 6.77120456e-02 4.27655025e-03\n",
            "  4.41910192e-02 0.00000000e+00 6.41482537e-03 3.56379187e-03\n",
            "  2.13827512e-03 8.55310050e-03 3.56379187e-02 0.00000000e+00\n",
            "  1.42551675e-03 1.42551675e-03 5.84461867e-02 1.17605132e-01\n",
            "  1.06913756e-02 2.13827512e-03 0.00000000e+00 0.00000000e+00\n",
            "  6.41482537e-03 1.42551675e-03 2.99358517e-01]\n",
            " [4.76839237e-03 3.40599455e-03 4.35967302e-02 2.24795640e-02\n",
            "  1.36239782e-03 1.19209809e-01 1.02179837e-02 1.97547684e-02\n",
            "  2.72479564e-03 2.04359673e-03 3.40599455e-03 3.61035422e-02\n",
            "  5.65395095e-02 1.62125341e-01 1.97547684e-02 2.52043597e-02\n",
            "  0.00000000e+00 1.54632153e-01 4.22343324e-02 2.38419619e-02\n",
            "  9.53678474e-02 1.29427793e-02 3.47411444e-02 3.40599455e-03\n",
            "  5.44959128e-03 6.81198910e-04 9.40054496e-02]\n",
            " [1.75324675e-01 0.00000000e+00 0.00000000e+00 0.00000000e+00\n",
            "  2.04545455e-01 0.00000000e+00 0.00000000e+00 3.24675325e-02\n",
            "  8.44155844e-02 0.00000000e+00 0.00000000e+00 7.79220779e-02\n",
            "  0.00000000e+00 0.00000000e+00 1.26623377e-01 4.22077922e-02\n",
            "  0.00000000e+00 1.36363636e-01 1.29870130e-02 3.24675325e-03\n",
            "  7.14285714e-02 0.00000000e+00 0.00000000e+00 0.00000000e+00\n",
            "  0.00000000e+00 0.00000000e+00 3.24675325e-02]\n",
            " [6.06060606e-02 0.00000000e+00 0.00000000e+00 0.00000000e+00\n",
            "  0.00000000e+00 0.00000000e+00 0.00000000e+00 0.00000000e+00\n",
            "  0.00000000e+00 0.00000000e+00 0.00000000e+00 0.00000000e+00\n",
            "  0.00000000e+00 0.00000000e+00 0.00000000e+00 0.00000000e+00\n",
            "  0.00000000e+00 0.00000000e+00 3.03030303e-02 0.00000000e+00\n",
            "  9.09090909e-01 0.00000000e+00 0.00000000e+00 0.00000000e+00\n",
            "  0.00000000e+00 0.00000000e+00 0.00000000e+00]\n",
            " [1.47736299e-01 1.50913423e-02 2.30341541e-02 1.27084988e-02\n",
            "  1.85067514e-01 3.17712470e-03 1.11199365e-02 7.14853058e-03\n",
            "  1.00079428e-01 0.00000000e+00 7.94281176e-03 1.42970612e-02\n",
            "  1.98570294e-02 1.58856235e-02 1.03256553e-01 5.55996823e-03\n",
            "  0.00000000e+00 1.50913423e-02 3.89197776e-02 5.55996823e-02\n",
            "  1.82684670e-02 7.14853058e-03 7.94281176e-04 0.00000000e+00\n",
            "  3.89197776e-02 0.00000000e+00 1.53296267e-01]\n",
            " [5.41632983e-02 1.61681487e-02 1.05092967e-02 1.61681487e-03\n",
            "  6.70978173e-02 2.42522231e-03 0.00000000e+00 3.31447049e-02\n",
            "  6.14389652e-02 0.00000000e+00 1.61681487e-03 1.29345190e-02\n",
            "  5.65885206e-03 0.00000000e+00 4.60792239e-02 1.53597413e-02\n",
            "  1.45513339e-02 0.00000000e+00 3.07194826e-02 1.51980598e-01\n",
            "  4.04203719e-02 0.00000000e+00 0.00000000e+00 0.00000000e+00\n",
            "  4.85044462e-03 0.00000000e+00 4.29264349e-01]\n",
            " [5.20607375e-02 3.25379610e-03 5.42299349e-04 5.42299349e-04\n",
            "  9.92407809e-02 0.00000000e+00 0.00000000e+00 3.36767896e-01\n",
            "  9.86984816e-02 0.00000000e+00 0.00000000e+00 1.35574837e-02\n",
            "  2.71149675e-03 5.42299349e-04 7.26681128e-02 2.16919740e-03\n",
            "  0.00000000e+00 4.06724512e-02 3.68763557e-02 5.42299349e-03\n",
            "  2.27765727e-02 1.08459870e-03 8.67678959e-03 0.00000000e+00\n",
            "  2.98264642e-02 0.00000000e+00 1.71908894e-01]\n",
            " [3.06643952e-02 3.23679727e-02 4.25894378e-02 3.91822828e-02\n",
            "  6.98466780e-02 3.40715503e-03 2.55536627e-02 3.40715503e-03\n",
            "  6.13287905e-02 3.40715503e-03 1.70357751e-03 7.49574106e-02\n",
            "  6.98466780e-02 9.19931857e-02 0.00000000e+00 2.55536627e-02\n",
            "  0.00000000e+00 1.68654174e-01 1.49914821e-01 8.34752981e-02\n",
            "  0.00000000e+00 3.40715503e-03 0.00000000e+00 0.00000000e+00\n",
            "  0.00000000e+00 0.00000000e+00 1.87393526e-02]\n",
            " [1.47058824e-01 0.00000000e+00 0.00000000e+00 0.00000000e+00\n",
            "  5.66176471e-01 0.00000000e+00 0.00000000e+00 0.00000000e+00\n",
            "  2.13235294e-01 0.00000000e+00 0.00000000e+00 0.00000000e+00\n",
            "  0.00000000e+00 0.00000000e+00 2.20588235e-02 0.00000000e+00\n",
            "  0.00000000e+00 0.00000000e+00 0.00000000e+00 0.00000000e+00\n",
            "  0.00000000e+00 0.00000000e+00 0.00000000e+00 0.00000000e+00\n",
            "  0.00000000e+00 0.00000000e+00 5.14705882e-02]\n",
            " [3.08681672e-01 0.00000000e+00 3.21543408e-03 0.00000000e+00\n",
            "  1.60771704e-01 0.00000000e+00 0.00000000e+00 1.18971061e-01\n",
            "  1.44694534e-01 0.00000000e+00 0.00000000e+00 0.00000000e+00\n",
            "  0.00000000e+00 6.75241158e-02 7.07395498e-02 0.00000000e+00\n",
            "  0.00000000e+00 6.43086817e-03 6.43086817e-03 9.64630225e-03\n",
            "  0.00000000e+00 0.00000000e+00 0.00000000e+00 0.00000000e+00\n",
            "  0.00000000e+00 0.00000000e+00 1.02893891e-01]\n",
            " [2.77777778e-02 0.00000000e+00 8.33333333e-02 0.00000000e+00\n",
            "  5.55555556e-02 0.00000000e+00 0.00000000e+00 5.55555556e-02\n",
            "  2.50000000e-01 0.00000000e+00 0.00000000e+00 0.00000000e+00\n",
            "  0.00000000e+00 0.00000000e+00 2.77777778e-02 2.50000000e-01\n",
            "  0.00000000e+00 0.00000000e+00 0.00000000e+00 1.38888889e-01\n",
            "  5.55555556e-02 0.00000000e+00 0.00000000e+00 0.00000000e+00\n",
            "  0.00000000e+00 0.00000000e+00 5.55555556e-02]\n",
            " [9.09090909e-02 0.00000000e+00 0.00000000e+00 0.00000000e+00\n",
            "  3.24675325e-02 0.00000000e+00 0.00000000e+00 0.00000000e+00\n",
            "  0.00000000e+00 0.00000000e+00 0.00000000e+00 6.49350649e-03\n",
            "  3.24675325e-03 2.59740260e-02 1.29870130e-02 3.24675325e-03\n",
            "  0.00000000e+00 0.00000000e+00 3.89610390e-02 6.49350649e-03\n",
            "  3.24675325e-03 0.00000000e+00 0.00000000e+00 0.00000000e+00\n",
            "  6.49350649e-03 6.49350649e-03 7.62987013e-01]\n",
            " [3.88888889e-01 0.00000000e+00 0.00000000e+00 0.00000000e+00\n",
            "  2.22222222e-01 0.00000000e+00 0.00000000e+00 0.00000000e+00\n",
            "  8.33333333e-02 0.00000000e+00 0.00000000e+00 0.00000000e+00\n",
            "  0.00000000e+00 0.00000000e+00 1.38888889e-01 0.00000000e+00\n",
            "  0.00000000e+00 0.00000000e+00 0.00000000e+00 0.00000000e+00\n",
            "  0.00000000e+00 0.00000000e+00 0.00000000e+00 0.00000000e+00\n",
            "  0.00000000e+00 0.00000000e+00 1.66666667e-01]\n",
            " [1.42105263e-01 4.47368421e-02 6.12440191e-02 2.00956938e-02\n",
            "  1.91387560e-02 3.51674641e-02 9.09090909e-03 2.48803828e-02\n",
            "  6.98564593e-02 4.30622010e-03 9.56937799e-03 1.62679426e-02\n",
            "  5.52631579e-02 2.29665072e-02 7.60765550e-02 2.94258373e-02\n",
            "  9.56937799e-04 4.61722488e-02 5.31100478e-02 1.61004785e-01\n",
            "  1.12440191e-02 5.50239234e-03 4.66507177e-02 0.00000000e+00\n",
            "  3.11004785e-03 2.15311005e-03 2.99043062e-02]]\n"
          ]
        }
      ]
    },
    {
      "cell_type": "markdown",
      "source": [
        "## Generer du texte"
      ],
      "metadata": {
        "id": "nS6D3jxriS4F"
      }
    },
    {
      "cell_type": "code",
      "source": [
        "import numpy as np\n",
        "\n",
        "def generate_text(P, alphabet, length=100, start_letter=None):\n",
        "    \"\"\"\n",
        "    Génère un texte à partir d'une matrice de transition stochastique en sélectionnant toujours\n",
        "    la lettre correspondant à la probabilité maximale.\n",
        "\n",
        "    :param P: Matrice de transition stochastique (27x27)\n",
        "    :param alphabet: Liste des caractères utilisés (lettres + espace)\n",
        "    :param length: Nombre de caractères à générer\n",
        "    :param start_letter: Lettre de départ (None pour choisir aléatoirement)\n",
        "    :return: Texte généré\n",
        "    \"\"\"\n",
        "    # Dictionnaire pour associer chaque lettre à son indice\n",
        "    char_to_idx = {char: i for i, char in enumerate(alphabet)}\n",
        "    idx_to_char = {i: char for i, char in enumerate(alphabet)}\n",
        "\n",
        "    # Choisir une lettre de départ\n",
        "    if start_letter is None or start_letter not in char_to_idx:\n",
        "        current_idx = np.random.choice(len(alphabet))  # Aléatoire\n",
        "    else:\n",
        "        current_idx = char_to_idx[start_letter]  # Fixé\n",
        "\n",
        "    generated_text = idx_to_char[current_idx]\n",
        "\n",
        "    # Génération caractère par caractère\n",
        "    for _ in range(length - 1):\n",
        "        next_idx = np.argmax(P[current_idx])  # Trouver l'indice de la colonne avec la probabilité maximale\n",
        "        generated_text += idx_to_char[next_idx]\n",
        "        current_idx = next_idx  # Mise à jour de current_idx\n",
        "\n",
        "    return generated_text\n",
        "\n",
        "\n",
        "# Génération d'un texte de 200 caractères à partir de 'r'\n",
        "generated_text = generate_text(P, alphabet, length=200, start_letter=\"f\")\n",
        "print(\"Texte généré :\\n\", generated_text)\n"
      ],
      "metadata": {
        "colab": {
          "base_uri": "https://localhost:8080/"
        },
        "id": "XPRpai9-P9o7",
        "outputId": "48e11690-795f-422f-e1ca-a95541905efe"
      },
      "execution_count": 8,
      "outputs": [
        {
          "output_type": "stream",
          "name": "stdout",
          "text": [
            "Texte généré :\n",
            " f the the the the the the the the the the the the the the the the the the the the the the the the the the the the the the the the the the the the the the the the the the the the the the the the the th\n"
          ]
        }
      ]
    },
    {
      "cell_type": "markdown",
      "source": [
        "## Evaluation du modele"
      ],
      "metadata": {
        "id": "TTo7YKjaiYpk"
      }
    },
    {
      "cell_type": "code",
      "source": [
        "import numpy as np\n",
        "\n",
        "def evaluate_markov_model(P, alphabet, text):\n",
        "    \"\"\"\n",
        "    Évalue la performance du modèle de Markov en comparant les probabilités de transition\n",
        "    d'un premier texte avec celles du second texte.\n",
        "\n",
        "    :param P: Matrice de transition stochastique (27x27)\n",
        "    :param alphabet: Liste des caractères utilisés (lettres + espace)\n",
        "    :param text: Texte de test pour l'évaluation\n",
        "    :return: Score final et précision globale\n",
        "    \"\"\"\n",
        "    # Dictionnaire pour convertir les caractères en indices\n",
        "    char_to_idx = {char: i for i, char in enumerate(alphabet)}\n",
        "\n",
        "    # Initialisation des scores et tentatives\n",
        "    score = 0\n",
        "    tentatives = 0\n",
        "\n",
        "    # Parcours du texte (on s'arrête à l'avant-dernière lettre)\n",
        "    for i in range(len(text) - 1):\n",
        "        x = text[i]   # Lettre actuelle\n",
        "        y = text[i+1] # Lettre suivante\n",
        "\n",
        "        # Vérifier si x et y sont dans l'alphabet (sinon, ignorer)\n",
        "        if x in char_to_idx and y in char_to_idx:\n",
        "            x_idx = char_to_idx[x]\n",
        "            y_idx = char_to_idx[y]\n",
        "\n",
        "            # Ajouter la probabilité de transition au score\n",
        "            score += P[x_idx, y_idx]\n",
        "            tentatives += 1\n",
        "\n",
        "    # Calcul de la précision globale\n",
        "    precision = score / tentatives if tentatives > 0 else 0\n",
        "    return score, precision\n",
        "\n",
        "\n",
        "\n",
        "text = generated_text\n",
        "\n",
        "# Évaluation du modèle\n",
        "score, precision = evaluate_markov_model(P, alphabet, text)\n",
        "print(f\"Score total: {score:.4f}\")\n",
        "print(f\"Précision globale: {precision:.4%}\")\n"
      ],
      "metadata": {
        "colab": {
          "base_uri": "https://localhost:8080/"
        },
        "id": "XK3xwMz4DEAO",
        "outputId": "591963a3-c7d4-4cb9-ad31-300ddd736011"
      },
      "execution_count": 10,
      "outputs": [
        {
          "output_type": "stream",
          "name": "stdout",
          "text": [
            "Score total: 68.3811\n",
            "Précision globale: 34.3624%\n"
          ]
        }
      ]
    },
    {
      "cell_type": "markdown",
      "source": [
        "# Etape 3"
      ],
      "metadata": {
        "id": "f4cRYhULGuDo"
      }
    },
    {
      "cell_type": "markdown",
      "source": [
        "### Modele de Markov a la base des tripplets"
      ],
      "metadata": {
        "id": "xM74sxiLfZRc"
      }
    },
    {
      "cell_type": "markdown",
      "source": [
        "##### Construction de la matrice de transition"
      ],
      "metadata": {
        "id": "omz2haZWfiWD"
      }
    },
    {
      "cell_type": "code",
      "source": [
        "import numpy as np\n",
        "from collections import defaultdict\n",
        "\n",
        "def build_transition_matrix(text, alphabet):\n",
        "    \"\"\"\n",
        "    Construit une matrice de transition basée sur les triplets de lettres.\n",
        "\n",
        "    :param text: Texte source pour construire la matrice\n",
        "    :param alphabet: Alphabet utilisé (26 lettres + espace)\n",
        "    :return: Matrice de transition normalisée (P) et dictionnaires d'index\n",
        "    \"\"\"\n",
        "    n = len(alphabet)\n",
        "    triplet_to_idx = {triplet: i for i, triplet in enumerate(\n",
        "        [a+b+c for a in alphabet for b in alphabet for c in alphabet])}\n",
        "    char_to_idx = {char: i for i, char in enumerate(alphabet)}\n",
        "\n",
        "    # Initialisation de la matrice de transition\n",
        "    P = np.zeros((n**3, n))\n",
        "\n",
        "    # Comptage des occurrences des triplets suivis d'une lettre\n",
        "    for i in range(len(text) - 3):\n",
        "        triplet = text[i:i+3]\n",
        "        next_char = text[i+3]\n",
        "        if triplet in triplet_to_idx and next_char in char_to_idx:\n",
        "            P[triplet_to_idx[triplet], char_to_idx[next_char]] += 1\n",
        "\n",
        "    # Normalisation (transformer en probabilités)\n",
        "    P = P / P.sum(axis=1, keepdims=True)\n",
        "    P = np.nan_to_num(P)  # Remplace les NaN par 0 (cas où aucune transition observée)\n",
        "\n",
        "    return P, triplet_to_idx, char_to_idx\n",
        "\n"
      ],
      "metadata": {
        "id": "S_YiTDwYXnYt"
      },
      "execution_count": 11,
      "outputs": []
    },
    {
      "cell_type": "markdown",
      "source": [
        "###### Generation du texte et Evaluation du modele"
      ],
      "metadata": {
        "id": "BxQBhs93ft9e"
      }
    },
    {
      "cell_type": "markdown",
      "source": [
        "Fonction generant du texte a partir du modele de markov"
      ],
      "metadata": {
        "id": "dUN-72Q-gE17"
      }
    },
    {
      "cell_type": "code",
      "source": [
        "def generate_text(P, triplet_to_idx, char_to_idx, alphabet, length=100, start_triplet=None):\n",
        "    \"\"\"\n",
        "    Génère un texte en suivant la matrice de transition des triplets.\n",
        "\n",
        "    :param P: Matrice de transition\n",
        "    :param triplet_to_idx: Dictionnaire mappant les triplets à des indices\n",
        "    :param char_to_idx: Dictionnaire mappant les lettres à des indices\n",
        "    :param alphabet: Alphabet utilisé\n",
        "    :param length: Longueur du texte à générer\n",
        "    :param start_triplet: Triplet de départ (None pour un choix aléatoire)\n",
        "    :return: Texte généré\n",
        "    \"\"\"\n",
        "    idx_to_char = {i: char for char, i in char_to_idx.items()}\n",
        "    idx_to_triplet = {i: triplet for triplet, i in triplet_to_idx.items()}\n",
        "\n",
        "    # Choisir un triplet de départ\n",
        "    if start_triplet is None or start_triplet not in triplet_to_idx:\n",
        "        start_idx = np.random.choice(len(triplet_to_idx))  # Aléatoire\n",
        "        current_triplet = idx_to_triplet[start_idx]\n",
        "    else:\n",
        "        current_triplet = start_triplet\n",
        "\n",
        "    generated_text = current_triplet\n",
        "\n",
        "    # Génération de caractères\n",
        "    for _ in range(length - 3):\n",
        "        triplet_idx = triplet_to_idx[current_triplet]\n",
        "        next_idx = np.argmax(P[triplet_idx])  # Choix de la lettre avec la plus haute proba\n",
        "        next_char = idx_to_char[next_idx]\n",
        "        generated_text += next_char\n",
        "        current_triplet = current_triplet[1:] + next_char  # Met à jour le triplet\n",
        "\n",
        "    return generated_text\n",
        "\n"
      ],
      "metadata": {
        "id": "kerfS32MXrmM"
      },
      "execution_count": 12,
      "outputs": []
    },
    {
      "cell_type": "markdown",
      "source": [
        "Methode d evaluation du modele"
      ],
      "metadata": {
        "id": "TY1CECWKgNug"
      }
    },
    {
      "cell_type": "code",
      "source": [
        "import numpy as np\n",
        "\n",
        "def evaluate_markov_model_triplets(P, text):\n",
        "    \"\"\"\n",
        "    Évalue la performance du modèle de Markov basé sur les triplets de lettres.\n",
        "\n",
        "    :param P: Matrice de transition stochastique (27³ x 27³)\n",
        "    :param triplets: Liste des triplets possibles\n",
        "    :param text: Texte de test pour l'évaluation\n",
        "    :return: Score final et précision globale\n",
        "    \"\"\"\n",
        "\n",
        "    score = 0\n",
        "    tentatives = 0\n",
        "\n",
        "    for i in range(len(text) - 3):\n",
        "        triplet_x = text[i:i+3]  # Triplet actuel\n",
        "        next_char = text[i+3]\n",
        "\n",
        "\n",
        "        if triplet_x in triplet_to_idx :\n",
        "            x_idx = triplet_to_idx[triplet_x]\n",
        "            y_idx = char_to_idx[next_char]\n",
        "\n",
        "            score += P[x_idx, y_idx]\n",
        "            tentatives += 1\n",
        "\n",
        "    precision = score / tentatives if tentatives > 0 else 0\n",
        "    return score, precision\n",
        "\n",
        "\n"
      ],
      "metadata": {
        "id": "C55QuRmpack4"
      },
      "execution_count": 15,
      "outputs": []
    },
    {
      "cell_type": "markdown",
      "source": [
        "Test du modele"
      ],
      "metadata": {
        "id": "ntl5f5KPgVMV"
      }
    },
    {
      "cell_type": "code",
      "source": [
        "\n",
        "# Construction de la matrice de transition\n",
        "P, triplet_to_idx, char_to_idx = build_transition_matrix(texte, alphabet)\n",
        "\n",
        "epsilon = 1e-8  # Petit terme d'évitement du zéro\n",
        "P_epsilon = (P + epsilon) / (P.sum(axis=1, keepdims=True) + epsilon * P.shape[1])\n",
        "\n",
        "\n",
        "# Génération d'un texte de 200 caractères\n",
        "generated_text_2 = generate_text(P_epsilon, triplet_to_idx, char_to_idx, alphabet, length=200, start_triplet=\"rab\")\n",
        "\n",
        "## Exemple d'évaluation\n",
        "score, precision = evaluate_markov_model_triplets(P_epsilon, generated_text_2)\n",
        "\n",
        "\n",
        "print(\"Texte généré :\\n\", generated_text_2)\n",
        "print(f\"Score total (triplets) : {score:.4f}\")\n",
        "print(f\"Précision globale (triplets) : {precision:.4%}\")"
      ],
      "metadata": {
        "colab": {
          "base_uri": "https://localhost:8080/"
        },
        "id": "12zUG_OBX0pd",
        "outputId": "cc56ce7b-8bf6-4716-c166-0d54aaec56c7"
      },
      "execution_count": 19,
      "outputs": [
        {
          "output_type": "stream",
          "name": "stdout",
          "text": [
            "Texte généré :\n",
            " rabat the almohad and the almohad and the almohad and the almohad and the almohad and the almohad and the almohad and the almohad and the almohad and the almohad and the almohad and the almohad and th\n",
            "Score total (triplets) : 115.9826\n",
            "Précision globale (triplets) : 58.8744%\n"
          ]
        },
        {
          "output_type": "stream",
          "name": "stderr",
          "text": [
            "<ipython-input-11-4a6cfcfa839a>:28: RuntimeWarning: invalid value encountered in divide\n",
            "  P = P / P.sum(axis=1, keepdims=True)\n"
          ]
        }
      ]
    },
    {
      "cell_type": "markdown",
      "source": [
        "# Partie3"
      ],
      "metadata": {
        "id": "1_pUNVmjbhls"
      }
    },
    {
      "cell_type": "markdown",
      "source": [
        "## Modele de Markov a la base de transition stochastique entre mots"
      ],
      "metadata": {
        "id": "zGyBg9-JhL_t"
      }
    },
    {
      "cell_type": "code",
      "source": [
        "import numpy as np\n",
        "import re\n",
        "from collections import defaultdict\n",
        "\n",
        "def preprocess_text(text):\n",
        "    \"\"\" Nettoie le texte et extrait les mots en minuscules. \"\"\"\n",
        "    words = re.findall(r'\\b\\w+\\b', text.lower())  # Extraction des mots\n",
        "    return words\n",
        "\n",
        "def build_transition_matrix(text):\n",
        "    \"\"\" Construit la matrice de transition entre les mots du texte. \"\"\"\n",
        "    words = preprocess_text(text)\n",
        "    unique_words = list(set(words))  # Liste des mots uniques\n",
        "    word_to_idx = {word: i for i, word in enumerate(unique_words)}\n",
        "    idx_to_word = {i: word for word, i in word_to_idx.items()}\n",
        "\n",
        "    N = len(unique_words)\n",
        "    P = np.zeros((N, N))  # Matrice de transition\n",
        "\n",
        "    # Remplissage de la matrice avec les fréquences de transition\n",
        "    for i in range(len(words) - 1):\n",
        "        current_idx = word_to_idx[words[i]]\n",
        "        next_idx = word_to_idx[words[i + 1]]\n",
        "        P[current_idx, next_idx] += 1\n",
        "\n",
        "    # Normalisation pour obtenir des probabilités\n",
        "    row_sums = P.sum(axis=1, keepdims=True)\n",
        "    P = np.divide(P, row_sums, where=row_sums != 0)  # Évite la division par zéro\n",
        "\n",
        "    return P, word_to_idx, idx_to_word\n",
        "\n",
        "def generate_text(P, word_to_idx, idx_to_word, length=50, start_word=None):\n",
        "    \"\"\" Génère un texte en utilisant la matrice de transition. \"\"\"\n",
        "    if start_word is None or start_word not in word_to_idx:\n",
        "        current_idx = np.random.choice(len(word_to_idx))  # Choix aléatoire\n",
        "    else:\n",
        "        current_idx = word_to_idx[start_word]\n",
        "\n",
        "    generated_text = [idx_to_word[current_idx]]\n",
        "\n",
        "    for _ in range(length - 1):\n",
        "        next_idx = np.random.choice(len(word_to_idx), p=P[current_idx])\n",
        "        generated_text.append(idx_to_word[next_idx])\n",
        "        current_idx = next_idx  # Mise à jour du mot courant\n",
        "\n",
        "    return ' '.join(generated_text)\n",
        "\n",
        "\n",
        "\n"
      ],
      "metadata": {
        "id": "pnTKn7dQbGif"
      },
      "execution_count": 27,
      "outputs": []
    },
    {
      "cell_type": "markdown",
      "source": [
        "#### Generation du texte"
      ],
      "metadata": {
        "id": "YAfK80pYhYtf"
      }
    },
    {
      "cell_type": "code",
      "source": [
        "P, word_to_idx, idx_to_word = build_transition_matrix(texte)\n",
        "generated_text = generate_text(P, word_to_idx, idx_to_word, length=200, start_word=\"the\")\n",
        "\n",
        "print(\"Texte généré :\\n\", generated_text)"
      ],
      "metadata": {
        "colab": {
          "base_uri": "https://localhost:8080/"
        },
        "id": "AE6uu8mdbZ4V",
        "outputId": "aa0ef462-876b-4978-9927-5fa1fb2f8c66"
      },
      "execution_count": 28,
      "outputs": [
        {
          "output_type": "stream",
          "name": "stdout",
          "text": [
            "Texte généré :\n",
            " the population of the late th centuries the new fortified imperial residence built a military tribe military staging ground of which hosts the romans on the kasbah as landmarks from cool ranging between and bab chellah a pirate attackcitation needed during the medina located below the completion of sala or oudayas museum of old sal whereas the medina also responsible for almohad caliph abu alhasan as of french government of the united states had established in the consuls became an average annual precipitation of the region under the kasbah to design the youssoufia region in with exhibits focusing on other independent art deco and bab udaya or political contacts between sala or the site of what is a controversy that only were relatively small census figures are the association football matches and souissi are not been fez hr on such as the mosques and the zoo has a summit recognized the shores of this almohad walls and with the th century the new sal can also uk rbt arabic is a seaside called into the almohads nonetheless defeated the city lappartement which include a palace the influence in rabat well as of the founder of the protectorate these refugees originally\n"
          ]
        }
      ]
    },
    {
      "cell_type": "markdown",
      "source": [
        "###### Methode  d **Evaluation**"
      ],
      "metadata": {
        "id": "8IpI4bAYhdWc"
      }
    },
    {
      "cell_type": "code",
      "source": [
        "import numpy as np\n",
        "\n",
        "def evaluate_markov_model_words(P, word_to_idx, text):\n",
        "    \"\"\"\n",
        "    Évalue la performance du modèle de Markov basé sur les transitions entre mots.\n",
        "\n",
        "    :param P: Matrice de transition stochastique (N x N) où N est la taille du vocabulaire.\n",
        "    :param word_to_idx: Dictionnaire associant chaque mot à un indice unique.\n",
        "    :param text: Texte de test pour l'évaluation.\n",
        "    :return: Score total et précision globale.\n",
        "    \"\"\"\n",
        "    words = text.split()  # Tokenisation en mots\n",
        "\n",
        "    score = 0\n",
        "    tentatives = 0\n",
        "    vocab_size = len(word_to_idx)\n",
        "\n",
        "    for i in range(len(words) - 1):\n",
        "        word_x = words[i]   # Mot actuel\n",
        "        word_y = words[i+1] # Mot suivant\n",
        "\n",
        "        if word_x in word_to_idx and word_y in word_to_idx:\n",
        "            x_idx = word_to_idx[word_x]\n",
        "            y_idx = word_to_idx[word_y]\n",
        "\n",
        "            if x_idx < vocab_size and y_idx < vocab_size:  # Vérification des indices\n",
        "                score += P[x_idx, y_idx]\n",
        "                tentatives += 1\n",
        "\n",
        "    precision = score / tentatives if tentatives > 0 else 0\n",
        "    return score, precision\n",
        "\n",
        "\n",
        "# Évaluation du modèle avec le texte généré\n",
        "score, precision = evaluate_markov_model_words(P, word_to_idx, generated_text)\n",
        "print(f\"Score total : {score:.4f}\")\n",
        "print(f\"Précision globale : {precision:.4%}\")\n"
      ],
      "metadata": {
        "colab": {
          "base_uri": "https://localhost:8080/"
        },
        "id": "PpCoqHKQcY8k",
        "outputId": "b277ef9c-7eef-4296-fe8a-db9dc815c952"
      },
      "execution_count": 29,
      "outputs": [
        {
          "output_type": "stream",
          "name": "stdout",
          "text": [
            "Score total : 66.9682\n",
            "Précision globale : 33.6524%\n"
          ]
        }
      ]
    },
    {
      "cell_type": "code",
      "source": [
        "P, word_to_idx, idx_to_word = build_transition_matrix(texte)\n",
        "generated_text = generate_text(P, word_to_idx, idx_to_word, length=20, start_word=\"the\")\n",
        "\n",
        "print(\"Texte généré :\\n\", generated_text)"
      ],
      "metadata": {
        "colab": {
          "base_uri": "https://localhost:8080/"
        },
        "id": "FaPznCilcKi7",
        "outputId": "05408ad5-032f-4474-f062-f760c77c0451"
      },
      "execution_count": 30,
      "outputs": [
        {
          "output_type": "stream",
          "name": "stdout",
          "text": [
            "Texte généré :\n",
            " the former almohad kasbah attracting between and marrakesh while were hosted by sultan moulay abdellah stadium in making it was\n"
          ]
        }
      ]
    },
    {
      "cell_type": "code",
      "source": [
        "score, precision = evaluate_markov_model_words(P, word_to_idx, generated_text)\n",
        "print(f\"Score total : {score:.4f}\")\n",
        "print(f\"Précision globale : {precision:.4%}\")"
      ],
      "metadata": {
        "colab": {
          "base_uri": "https://localhost:8080/"
        },
        "id": "Ai8IlScvcopG",
        "outputId": "0e83ec18-bc57-4292-d096-160e7e801e0a"
      },
      "execution_count": 31,
      "outputs": [
        {
          "output_type": "stream",
          "name": "stdout",
          "text": [
            "Score total : 6.0420\n",
            "Précision globale : 31.7998%\n"
          ]
        }
      ]
    }
  ]
}